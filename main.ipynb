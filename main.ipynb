{
 "cells": [
  {
   "cell_type": "markdown",
   "metadata": {},
   "source": [
    "# Qarameterized circuits: Quantum parameters for QML\n",
    "**Evan Peters**, University of Waterloo, Institute for Quantum Computing  \n",
    "**Prasanth Shyamsundar**, Fermi National Accelerator Laboratory, Fermilab Quantum Institute\n",
    "\n",
    "GitHub epository: [https://github.com/peterse/groveropt](https://github.com/peterse/groveropt)\n",
    "\n",
    "---\n",
    "\n",
    "<span style=\"color:gray\"> *So you want to train your quantum circuit but you're tired of optimizing everything **classically**...?*</span>.\n",
    "\n",
    "Variational quantum circuits are the foundation of many near term quantum algorithms, from quantum chemistry to quantum machine learning. The applications span from drug discovery 💊 to particle physics ☢ to quantitative finance 🤑 and beyond!. In most of these applications, parameters are optimized by using the quantum quantum circuit to compute a cost function for some initial choice of parameters, and then updating these parameters using a **classical** optimizer running in lockstep with the quantum circuits.\n",
    "\n",
    "In this project we introduce **Quantum-parameterized (Qarameterized) circuits** for the optimization of variational circuits, which turns the power of a quantum circuit back towards itself to boost optimization!\n"
   ]
  },
  {
   "cell_type": "markdown",
   "metadata": {},
   "source": [
    "### Background\n",
    "\n",
    "Training a parameterized quantum circuit requires that we find some set of classical angles $\\theta$ that correspond to the extremum of an observable. For some parameterized circuit $U(\\theta)$ with parameters $\\theta$, our goal is usually to find parameters that minimize the value of some observable quantity $H$, that is\n",
    "\n",
    "$$\n",
    "\\underset{\\theta}{\\operatorname{argmin}} \\, \\langle 0 | U(\\theta) H U^\\dagger (\\theta)|0\\rangle\n",
    "$$\n",
    "\n",
    "However, if we construct a modified observable $H_Q$ that's accessible _in quantum space_ and we upload our parameter values into quantum states $|\\theta\\rangle$, then we can rephrase this as a quantum parameterization problem:\n",
    "\n",
    "$$\n",
    "\\underset{|\\theta\\rangle}{\\operatorname{argmin}} \\, \\langle \\theta | H_Q |\\theta\\rangle\n",
    "$$\n",
    "\n",
    "Quantum parameterization has been proposed previously, for example [(Verdon, 2018)](https://arxiv.org/abs/1806.09729) and [(Shyamsundar, 2021)](https://arxiv.org/abs/2102.04975), but our algorithm improves the probability of finding circuit optima using a *gradient-free technique*."
   ]
  },
  {
   "cell_type": "markdown",
   "metadata": {},
   "source": [
    "### Building a Qarameterized circuit\n",
    "\n",
    "In order to apply this optimization technique we prepare the circuit by \"lifting\" each parameter into quantum state space. This means that any gate that was previously parameterized by a classical number $\\theta$ instead becomes controlled by quantum registers storing the binary expansion of $\\theta = \\sum_k \\theta_k 2^{-k}$, up to some desired precision in the estimate of $\\theta_{opt}$:"
   ]
  },
  {
   "cell_type": "markdown",
   "metadata": {},
   "source": [
    "<img src=\"img/lifting_diagram/lifting_diagram.png\" width=700 height=200 />"
   ]
  },
  {
   "cell_type": "markdown",
   "metadata": {},
   "source": [
    "### Applying amplitude amplification to find $\\theta_{opt}$\n",
    "\n",
    "To realize an advantage in optimization, our algorithm queries the cost landscape for an observable $H$ *for a  superposition of choices of $|\\theta\\rangle$*. Specifically, we employ the following steps:\n",
    "\n",
    "1. Construct a quantum oracle to coherently evaluate the state of the control registers, using $\\exp (i H)$.\n",
    "    \n",
    "2. Train the circuit using a modified version of Grover's algorithm, which preferentially amplifies the good states of $|\\theta\\rangle$ held in the control registers.\n",
    "\n",
    "\n",
    "\n",
    "**TODO**: Briefly explain the phase and diffusion layers. Also explain K hyperparameter"
   ]
  },
  {
   "cell_type": "markdown",
   "metadata": {},
   "source": [
    "<img src=\"img/lifting_animation/lifting_animation.png\" width=1600 />"
   ]
  },
  {
   "cell_type": "markdown",
   "metadata": {},
   "source": [
    "### Experiments\n",
    "\n",
    "We performed...\n",
    "\n",
    "The circuit we used for this experiment is shown below. We also show how to modify a basic circuit to support optimization using this method by adding on a small ancillary system\n"
   ]
  },
  {
   "cell_type": "markdown",
   "metadata": {},
   "source": [
    "circuit goes here"
   ]
  },
  {
   "cell_type": "markdown",
   "metadata": {},
   "source": [
    "We used Grover search to optimize this circuit using the cost function XXX. Below we show how the algorithm updated optimal parameters at each step of the algorithm."
   ]
  },
  {
   "cell_type": "markdown",
   "metadata": {},
   "source": [
    "<img src=\"img/plot1.png\" />"
   ]
  },
  {
   "cell_type": "markdown",
   "metadata": {},
   "source": [
    "#### Scaling it up\n",
    "\n",
    "To put our algorithm to the test, we constructed and lifted a deeper 4-qubit circuit with four trainable parameters:"
   ]
  },
  {
   "cell_type": "markdown",
   "metadata": {},
   "source": [
    "<img src=\"img/experiment2.png\" width=1800 />"
   ]
  },
  {
   "cell_type": "markdown",
   "metadata": {},
   "source": [
    "These kinds of circuits are quite powerful regardless of the single parameter per layer, for example being able to serve as universal function approximators [(Schuld, 2020)](https://arxiv.org/abs/2008.08605)! \n",
    "\n",
    "We used the Qarameterized circuit as an initializer for training an arbitrary cost function, and found that this technique greatly improved the initial cost of the circuit, allowing gradient-based optimizers to finish the job quicklky and smoothly:"
   ]
  },
  {
   "cell_type": "markdown",
   "metadata": {},
   "source": [
    "### Discussion\n",
    "\n",
    "Grover serach for quantum circuit optimization presents an exciting opportunity blah blah blah"
   ]
  }
 ],
 "metadata": {
  "kernelspec": {
   "display_name": "Python 3",
   "language": "python",
   "name": "python3"
  },
  "language_info": {
   "codemirror_mode": {
    "name": "ipython",
    "version": 3
   },
   "file_extension": ".py",
   "mimetype": "text/x-python",
   "name": "python",
   "nbconvert_exporter": "python",
   "pygments_lexer": "ipython3",
   "version": "3.6.9"
  }
 },
 "nbformat": 4,
 "nbformat_minor": 2
}
